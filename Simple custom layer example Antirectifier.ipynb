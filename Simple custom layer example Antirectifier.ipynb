{
 "cells": [
  {
   "cell_type": "code",
   "execution_count": 1,
   "id": "a53ce704",
   "metadata": {},
   "outputs": [],
   "source": [
    "#les imports nécessaires \n",
    "import tensorflow as tf\n",
    "from tensorflow import keras\n",
    "from tensorflow.keras import layers"
   ]
  },
  {
   "cell_type": "markdown",
   "id": "e2044bce",
   "metadata": {},
   "source": [
    "# The Antirectifier layer"
   ]
  },
  {
   "cell_type": "code",
   "execution_count": 2,
   "id": "54815c42",
   "metadata": {},
   "outputs": [],
   "source": [
    "class Antirectifier(layers.Layer):\n",
    "    def __init__(self, initializer=\"he_normal\", **kwargs):\n",
    "        super(Antirectifier, self).__init__(**kwargs)\n",
    "        self.initializer = keras.initializers.get(initializer)\n",
    "\n",
    "    def build(self, input_shape):\n",
    "        output_dim = input_shape[-1]\n",
    "        self.kernel = self.add_weight(\n",
    "            shape=(output_dim * 2, output_dim),\n",
    "            initializer=self.initializer,\n",
    "            name=\"kernel\",\n",
    "            trainable=True,\n",
    "        )\n",
    "\n",
    "    def call(self, inputs):\n",
    "        inputs -= tf.reduce_mean(inputs, axis=-1, keepdims=True)\n",
    "        pos = tf.nn.relu(inputs)\n",
    "        neg = tf.nn.relu(-inputs)\n",
    "        concatenated = tf.concat([pos, neg], axis=-1)\n",
    "        mixed = tf.matmul(concatenated, self.kernel)\n",
    "        return mixed\n",
    "\n",
    "    def get_config(self):\n",
    "        # Implement get_config to enable serialization. This is optional.\n",
    "        base_config = super(Antirectifier, self).get_config()\n",
    "        config = {\"initializer\": keras.initializers.serialize(self.initializer)}\n",
    "        return dict(list(base_config.items()) + list(config.items()))"
   ]
  },
  {
   "cell_type": "markdown",
   "id": "62bd4643",
   "metadata": {},
   "source": [
    "# Let's test-drive it on MNIST"
   ]
  },
  {
   "cell_type": "code",
   "execution_count": 3,
   "id": "9823ca5e",
   "metadata": {},
   "outputs": [
    {
     "name": "stdout",
     "output_type": "stream",
     "text": [
      "60000 train samples\n",
      "10000 test samples\n",
      "Epoch 1/20\n",
      "399/399 [==============================] - 9s 17ms/step - loss: 0.3845 - sparse_categorical_accuracy: 0.8860 - val_loss: 0.2063 - val_sparse_categorical_accuracy: 0.9401\n",
      "Epoch 2/20\n",
      "399/399 [==============================] - 6s 16ms/step - loss: 0.1779 - sparse_categorical_accuracy: 0.9513 - val_loss: 0.1594 - val_sparse_categorical_accuracy: 0.9582\n",
      "Epoch 3/20\n",
      "399/399 [==============================] - 6s 16ms/step - loss: 0.1379 - sparse_categorical_accuracy: 0.9630 - val_loss: 0.1095 - val_sparse_categorical_accuracy: 0.9714\n",
      "Epoch 4/20\n",
      "399/399 [==============================] - 7s 17ms/step - loss: 0.1111 - sparse_categorical_accuracy: 0.9692 - val_loss: 0.1406 - val_sparse_categorical_accuracy: 0.9712\n",
      "Epoch 5/20\n",
      "399/399 [==============================] - 7s 16ms/step - loss: 0.1001 - sparse_categorical_accuracy: 0.9741 - val_loss: 0.1488 - val_sparse_categorical_accuracy: 0.9664\n",
      "Epoch 6/20\n",
      "399/399 [==============================] - 6s 14ms/step - loss: 0.0885 - sparse_categorical_accuracy: 0.9773 - val_loss: 0.1254 - val_sparse_categorical_accuracy: 0.9739\n",
      "Epoch 7/20\n",
      "399/399 [==============================] - 7s 17ms/step - loss: 0.0783 - sparse_categorical_accuracy: 0.9794 - val_loss: 0.3328 - val_sparse_categorical_accuracy: 0.9343\n",
      "Epoch 8/20\n",
      "399/399 [==============================] - 6s 16ms/step - loss: 0.0755 - sparse_categorical_accuracy: 0.9814 - val_loss: 0.1337 - val_sparse_categorical_accuracy: 0.9757\n",
      "Epoch 9/20\n",
      "399/399 [==============================] - 7s 16ms/step - loss: 0.0665 - sparse_categorical_accuracy: 0.9836 - val_loss: 0.1509 - val_sparse_categorical_accuracy: 0.9730\n",
      "Epoch 10/20\n",
      "399/399 [==============================] - 7s 16ms/step - loss: 0.0653 - sparse_categorical_accuracy: 0.9840 - val_loss: 0.1342 - val_sparse_categorical_accuracy: 0.9757\n",
      "Epoch 11/20\n",
      "399/399 [==============================] - 6s 16ms/step - loss: 0.0659 - sparse_categorical_accuracy: 0.9848 - val_loss: 0.1311 - val_sparse_categorical_accuracy: 0.9780\n",
      "Epoch 12/20\n",
      "399/399 [==============================] - 7s 17ms/step - loss: 0.0566 - sparse_categorical_accuracy: 0.9864 - val_loss: 0.1568 - val_sparse_categorical_accuracy: 0.9784\n",
      "Epoch 13/20\n",
      "399/399 [==============================] - 6s 16ms/step - loss: 0.0592 - sparse_categorical_accuracy: 0.9865 - val_loss: 0.2407 - val_sparse_categorical_accuracy: 0.9638\n",
      "Epoch 14/20\n",
      "399/399 [==============================] - 7s 17ms/step - loss: 0.0541 - sparse_categorical_accuracy: 0.9875 - val_loss: 0.1609 - val_sparse_categorical_accuracy: 0.9788\n",
      "Epoch 15/20\n",
      "399/399 [==============================] - 7s 16ms/step - loss: 0.0555 - sparse_categorical_accuracy: 0.9884 - val_loss: 0.2921 - val_sparse_categorical_accuracy: 0.9612\n",
      "Epoch 16/20\n",
      "399/399 [==============================] - 7s 17ms/step - loss: 0.0586 - sparse_categorical_accuracy: 0.9881 - val_loss: 0.1893 - val_sparse_categorical_accuracy: 0.9756\n",
      "Epoch 17/20\n",
      "399/399 [==============================] - 7s 17ms/step - loss: 0.0544 - sparse_categorical_accuracy: 0.9891 - val_loss: 0.1991 - val_sparse_categorical_accuracy: 0.9769\n",
      "Epoch 18/20\n",
      "399/399 [==============================] - 7s 17ms/step - loss: 0.0532 - sparse_categorical_accuracy: 0.9891 - val_loss: 0.1993 - val_sparse_categorical_accuracy: 0.9786\n",
      "Epoch 19/20\n",
      "399/399 [==============================] - 6s 16ms/step - loss: 0.0550 - sparse_categorical_accuracy: 0.9899 - val_loss: 0.1824 - val_sparse_categorical_accuracy: 0.9800\n",
      "Epoch 20/20\n",
      "399/399 [==============================] - 6s 16ms/step - loss: 0.0532 - sparse_categorical_accuracy: 0.9904 - val_loss: 0.2075 - val_sparse_categorical_accuracy: 0.9773\n",
      "313/313 [==============================] - 2s 6ms/step - loss: 0.2098 - sparse_categorical_accuracy: 0.9786\n"
     ]
    },
    {
     "data": {
      "text/plain": [
       "[0.20975200831890106, 0.978600025177002]"
      ]
     },
     "execution_count": 3,
     "metadata": {},
     "output_type": "execute_result"
    }
   ],
   "source": [
    "# Training parameters\n",
    "batch_size = 128\n",
    "num_classes = 10\n",
    "epochs = 20\n",
    "\n",
    "# The data, split between train and test sets\n",
    "(x_train, y_train), (x_test, y_test) = keras.datasets.mnist.load_data()\n",
    "\n",
    "x_train = x_train.reshape(-1, 784)\n",
    "x_test = x_test.reshape(-1, 784)\n",
    "x_train = x_train.astype(\"float32\")\n",
    "x_test = x_test.astype(\"float32\")\n",
    "x_train /= 255\n",
    "x_test /= 255\n",
    "print(x_train.shape[0], \"train samples\")\n",
    "print(x_test.shape[0], \"test samples\")\n",
    "\n",
    "# Build the model\n",
    "model = keras.Sequential(\n",
    "    [\n",
    "        keras.Input(shape=(784,)),\n",
    "        layers.Dense(256),\n",
    "        Antirectifier(),\n",
    "        layers.Dense(256),\n",
    "        Antirectifier(),\n",
    "        layers.Dropout(0.5),\n",
    "        layers.Dense(10),\n",
    "    ]\n",
    ")\n",
    "\n",
    "# Compile the model\n",
    "model.compile(\n",
    "    loss=keras.losses.SparseCategoricalCrossentropy(from_logits=True),\n",
    "    optimizer=keras.optimizers.RMSprop(),\n",
    "    metrics=[keras.metrics.SparseCategoricalAccuracy()],\n",
    ")\n",
    "\n",
    "# Train the model\n",
    "model.fit(x_train, y_train, batch_size=batch_size, epochs=epochs, validation_split=0.15)\n",
    "\n",
    "# Test the model\n",
    "model.evaluate(x_test, y_test)"
   ]
  },
  {
   "cell_type": "code",
   "execution_count": null,
   "id": "3052015e",
   "metadata": {},
   "outputs": [],
   "source": []
  },
  {
   "cell_type": "code",
   "execution_count": null,
   "id": "ffebcc62",
   "metadata": {},
   "outputs": [],
   "source": []
  },
  {
   "cell_type": "code",
   "execution_count": null,
   "id": "fcf7eef2",
   "metadata": {},
   "outputs": [],
   "source": []
  }
 ],
 "metadata": {
  "kernelspec": {
   "display_name": "Python 3 (ipykernel)",
   "language": "python",
   "name": "python3"
  },
  "language_info": {
   "codemirror_mode": {
    "name": "ipython",
    "version": 3
   },
   "file_extension": ".py",
   "mimetype": "text/x-python",
   "name": "python",
   "nbconvert_exporter": "python",
   "pygments_lexer": "ipython3",
   "version": "3.9.7"
  }
 },
 "nbformat": 4,
 "nbformat_minor": 5
}
